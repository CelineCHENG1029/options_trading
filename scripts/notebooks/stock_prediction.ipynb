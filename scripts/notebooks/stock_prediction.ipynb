{
 "cells": [
  {
   "cell_type": "code",
   "execution_count": 1,
   "metadata": {},
   "outputs": [],
   "source": [
    "import pandas as pd\n",
    "import numpy as np\n",
    "%matplotlib inline\n",
    "import matplotlib.pyplot as plt\n",
    "\n",
    "from sklearn.preprocessing import MinMaxScaler\n",
    "from sklearn.metrics import r2_score\n",
    "\n",
    "def adj_r2_score(r2, n, k):\n",
    "    return 1-((1-r2)*((n-1)/(n-k-1)))"
   ]
  },
  {
   "cell_type": "code",
   "execution_count": 2,
   "metadata": {},
   "outputs": [
    {
     "name": "stdout",
     "output_type": "stream",
     "text": [
      "DatetimeIndex(['2004-01-02', '2004-01-05', '2004-01-06', '2004-01-07',\n",
      "               '2004-01-08', '2004-01-09', '2004-01-12', '2004-01-13',\n",
      "               '2004-01-14', '2004-01-15',\n",
      "               ...\n",
      "               '2018-08-07', '2018-08-08', '2018-08-09', '2018-08-10',\n",
      "               '2018-08-13', '2018-08-14', '2018-08-15', '2018-08-16',\n",
      "               '2018-08-17', '2018-08-20'],\n",
      "              dtype='datetime64[ns]', name='Date', length=3684, freq=None)\n"
     ]
    }
   ],
   "source": [
    "exchange_data = pd.read_pickle('VIX_quandl.pk')\n",
    "print(exchange_data.index)\n",
    "exchange_data[\"Date\"] = pd.to_datetime(exchange_data.index)\n",
    "ind_exchange_data = exchange_data.set_index([\"Date\"], drop=True)"
   ]
  },
  {
   "cell_type": "markdown",
   "metadata": {},
   "source": [
    "### Real DataFrame"
   ]
  },
  {
   "cell_type": "code",
   "execution_count": 3,
   "metadata": {},
   "outputs": [
    {
     "data": {
      "text/html": [
       "<div>\n",
       "<style scoped>\n",
       "    .dataframe tbody tr th:only-of-type {\n",
       "        vertical-align: middle;\n",
       "    }\n",
       "\n",
       "    .dataframe tbody tr th {\n",
       "        vertical-align: top;\n",
       "    }\n",
       "\n",
       "    .dataframe thead th {\n",
       "        text-align: right;\n",
       "    }\n",
       "</style>\n",
       "<table border=\"1\" class=\"dataframe\">\n",
       "  <thead>\n",
       "    <tr style=\"text-align: right;\">\n",
       "      <th></th>\n",
       "      <th>VIX Open</th>\n",
       "      <th>VIX High</th>\n",
       "      <th>VIX Low</th>\n",
       "      <th>VIX Close</th>\n",
       "    </tr>\n",
       "    <tr>\n",
       "      <th>Date</th>\n",
       "      <th></th>\n",
       "      <th></th>\n",
       "      <th></th>\n",
       "      <th></th>\n",
       "    </tr>\n",
       "  </thead>\n",
       "  <tbody>\n",
       "    <tr>\n",
       "      <th>2004-01-02</th>\n",
       "      <td>17.96</td>\n",
       "      <td>18.68</td>\n",
       "      <td>17.54</td>\n",
       "      <td>18.22</td>\n",
       "    </tr>\n",
       "    <tr>\n",
       "      <th>2004-01-05</th>\n",
       "      <td>18.45</td>\n",
       "      <td>18.49</td>\n",
       "      <td>17.44</td>\n",
       "      <td>17.49</td>\n",
       "    </tr>\n",
       "    <tr>\n",
       "      <th>2004-01-06</th>\n",
       "      <td>17.66</td>\n",
       "      <td>17.67</td>\n",
       "      <td>16.19</td>\n",
       "      <td>16.73</td>\n",
       "    </tr>\n",
       "    <tr>\n",
       "      <th>2004-01-07</th>\n",
       "      <td>16.72</td>\n",
       "      <td>16.75</td>\n",
       "      <td>15.50</td>\n",
       "      <td>15.50</td>\n",
       "    </tr>\n",
       "    <tr>\n",
       "      <th>2004-01-08</th>\n",
       "      <td>15.42</td>\n",
       "      <td>15.68</td>\n",
       "      <td>15.32</td>\n",
       "      <td>15.61</td>\n",
       "    </tr>\n",
       "  </tbody>\n",
       "</table>\n",
       "</div>"
      ],
      "text/plain": [
       "            VIX Open  VIX High  VIX Low  VIX Close\n",
       "Date                                              \n",
       "2004-01-02     17.96     18.68    17.54      18.22\n",
       "2004-01-05     18.45     18.49    17.44      17.49\n",
       "2004-01-06     17.66     17.67    16.19      16.73\n",
       "2004-01-07     16.72     16.75    15.50      15.50\n",
       "2004-01-08     15.42     15.68    15.32      15.61"
      ]
     },
     "execution_count": 3,
     "metadata": {},
     "output_type": "execute_result"
    }
   ],
   "source": [
    "ind_exchange_data.head()"
   ]
  },
  {
   "cell_type": "markdown",
   "metadata": {},
   "source": [
    "### Reversed and Flipped DataFrame"
   ]
  },
  {
   "cell_type": "code",
   "execution_count": 4,
   "metadata": {},
   "outputs": [
    {
     "data": {
      "text/html": [
       "<div>\n",
       "<style scoped>\n",
       "    .dataframe tbody tr th:only-of-type {\n",
       "        vertical-align: middle;\n",
       "    }\n",
       "\n",
       "    .dataframe tbody tr th {\n",
       "        vertical-align: top;\n",
       "    }\n",
       "\n",
       "    .dataframe thead th {\n",
       "        text-align: right;\n",
       "    }\n",
       "</style>\n",
       "<table border=\"1\" class=\"dataframe\">\n",
       "  <thead>\n",
       "    <tr style=\"text-align: right;\">\n",
       "      <th></th>\n",
       "      <th>VIX Close</th>\n",
       "      <th>VIX High</th>\n",
       "      <th>VIX Low</th>\n",
       "      <th>VIX Open</th>\n",
       "    </tr>\n",
       "    <tr>\n",
       "      <th>Date</th>\n",
       "      <th></th>\n",
       "      <th></th>\n",
       "      <th></th>\n",
       "      <th></th>\n",
       "    </tr>\n",
       "  </thead>\n",
       "  <tbody>\n",
       "    <tr>\n",
       "      <th>2004-01-02</th>\n",
       "      <td>18.22</td>\n",
       "      <td>18.68</td>\n",
       "      <td>17.54</td>\n",
       "      <td>17.96</td>\n",
       "    </tr>\n",
       "    <tr>\n",
       "      <th>2004-01-05</th>\n",
       "      <td>17.49</td>\n",
       "      <td>18.49</td>\n",
       "      <td>17.44</td>\n",
       "      <td>18.45</td>\n",
       "    </tr>\n",
       "    <tr>\n",
       "      <th>2004-01-06</th>\n",
       "      <td>16.73</td>\n",
       "      <td>17.67</td>\n",
       "      <td>16.19</td>\n",
       "      <td>17.66</td>\n",
       "    </tr>\n",
       "    <tr>\n",
       "      <th>2004-01-07</th>\n",
       "      <td>15.50</td>\n",
       "      <td>16.75</td>\n",
       "      <td>15.50</td>\n",
       "      <td>16.72</td>\n",
       "    </tr>\n",
       "    <tr>\n",
       "      <th>2004-01-08</th>\n",
       "      <td>15.61</td>\n",
       "      <td>15.68</td>\n",
       "      <td>15.32</td>\n",
       "      <td>15.42</td>\n",
       "    </tr>\n",
       "  </tbody>\n",
       "</table>\n",
       "</div>"
      ],
      "text/plain": [
       "            VIX Close  VIX High  VIX Low  VIX Open\n",
       "Date                                              \n",
       "2004-01-02      18.22     18.68    17.54     17.96\n",
       "2004-01-05      17.49     18.49    17.44     18.45\n",
       "2004-01-06      16.73     17.67    16.19     17.66\n",
       "2004-01-07      15.50     16.75    15.50     16.72\n",
       "2004-01-08      15.61     15.68    15.32     15.42"
      ]
     },
     "execution_count": 4,
     "metadata": {},
     "output_type": "execute_result"
    }
   ],
   "source": [
    "data_frame = ind_exchange_data.sort_index(axis=1 ,ascending=True)\n",
    "# data_frame = data_frame.iloc[::-1]\n",
    "data_frame.head()"
   ]
  },
  {
   "cell_type": "code",
   "execution_count": 5,
   "metadata": {},
   "outputs": [],
   "source": [
    "df = data_frame[[\"VIX Close\"]]"
   ]
  },
  {
   "cell_type": "code",
   "execution_count": 6,
   "metadata": {},
   "outputs": [
    {
     "data": {
      "text/plain": [
       "<matplotlib.axes._subplots.AxesSubplot at 0x1a0c12d160>"
      ]
     },
     "execution_count": 6,
     "metadata": {},
     "output_type": "execute_result"
    },
    {
     "data": {
      "image/png": "[encoded data removed]",
      "text/plain": [
       "<Figure size 432x288 with 1 Axes>"
      ]
     },
     "metadata": {
      "needs_background": "light"
     },
     "output_type": "display_data"
    }
   ],
   "source": [
    "df.plot()"
   ]
  },
  {
   "cell_type": "code",
   "execution_count": 7,
   "metadata": {},
   "outputs": [
    {
     "data": {
      "text/plain": [
       "<matplotlib.legend.Legend at 0x1a0c221cf8>"
      ]
     },
     "execution_count": 7,
     "metadata": {},
     "output_type": "execute_result"
    },
    {
     "data": {
      "image/png": "[encoded data removed]",
      "text/plain": [
       "<Figure size 432x288 with 1 Axes>"
      ]
     },
     "metadata": {
      "needs_background": "light"
     },
     "output_type": "display_data"
    }
   ],
   "source": [
    "split_date = pd.Timestamp('01-01-2010')\n",
    "\n",
    "train = df.loc[:split_date]\n",
    "test = df.loc[split_date:]\n",
    "\n",
    "ax = train.plot()\n",
    "test.plot(ax=ax)\n",
    "plt.legend(['train', 'test'])"
   ]
  },
  {
   "cell_type": "code",
   "execution_count": 8,
   "metadata": {},
   "outputs": [],
   "source": [
    "sc = MinMaxScaler()\n",
    "train_sc = sc.fit_transform(train)\n",
    "test_sc = sc.transform(test)"
   ]
  },
  {
   "cell_type": "markdown",
   "metadata": {},
   "source": [
    "# Non-Shifted"
   ]
  },
  {
   "cell_type": "markdown",
   "metadata": {},
   "source": [
    "## ANN"
   ]
  },
  {
   "cell_type": "code",
   "execution_count": 9,
   "metadata": {},
   "outputs": [],
   "source": [
    "X_train = train_sc[:-1]\n",
    "y_train = train_sc[1:]\n",
    "\n",
    "X_test = test_sc[:-1]\n",
    "y_test = test_sc[1:]"
   ]
  },
  {
   "cell_type": "code",
   "execution_count": 10,
   "metadata": {},
   "outputs": [
    {
     "name": "stderr",
     "output_type": "stream",
     "text": [
      "Using Theano backend.\n"
     ]
    }
   ],
   "source": [
    "from keras.models import Sequential\n",
    "from keras.layers import Dense\n",
    "import keras.backend as K\n",
    "from keras.callbacks import EarlyStopping\n",
    "from keras.optimizers import Adam\n",
    "from keras.models import load_model\n"
   ]
  },
  {
   "cell_type": "code",
   "execution_count": 32,
   "metadata": {
    "scrolled": true
   },
   "outputs": [
    {
     "ename": "AttributeError",
     "evalue": "module 'keras.backend' has no attribute 'clear_session'",
     "output_type": "error",
     "traceback": [
      "\u001b[0;31m---------------------------------------------------------------------------\u001b[0m",
      "\u001b[0;31mAttributeError\u001b[0m                            Traceback (most recent call last)",
      "\u001b[0;32m<ipython-input-32-8b0f21552703>\u001b[0m in \u001b[0;36m<module>\u001b[0;34m()\u001b[0m\n\u001b[0;32m----> 1\u001b[0;31m \u001b[0mK\u001b[0m\u001b[0;34m.\u001b[0m\u001b[0mclear_session\u001b[0m\u001b[0;34m(\u001b[0m\u001b[0;34m)\u001b[0m\u001b[0;34m\u001b[0m\u001b[0m\n\u001b[0m\u001b[1;32m      2\u001b[0m \u001b[0;34m\u001b[0m\u001b[0m\n\u001b[1;32m      3\u001b[0m \u001b[0mmodel\u001b[0m \u001b[0;34m=\u001b[0m \u001b[0mSequential\u001b[0m\u001b[0;34m(\u001b[0m\u001b[0;34m)\u001b[0m\u001b[0;34m\u001b[0m\u001b[0m\n\u001b[1;32m      4\u001b[0m \u001b[0mmodel\u001b[0m\u001b[0;34m.\u001b[0m\u001b[0madd\u001b[0m\u001b[0;34m(\u001b[0m\u001b[0mDense\u001b[0m\u001b[0;34m(\u001b[0m\u001b[0;36m12\u001b[0m\u001b[0;34m,\u001b[0m \u001b[0minput_dim\u001b[0m\u001b[0;34m=\u001b[0m\u001b[0;36m1\u001b[0m\u001b[0;34m,\u001b[0m \u001b[0mactivation\u001b[0m\u001b[0;34m=\u001b[0m\u001b[0;34m'relu'\u001b[0m\u001b[0;34m)\u001b[0m\u001b[0;34m)\u001b[0m\u001b[0;34m\u001b[0m\u001b[0m\n\u001b[1;32m      5\u001b[0m \u001b[0mmodel\u001b[0m\u001b[0;34m.\u001b[0m\u001b[0madd\u001b[0m\u001b[0;34m(\u001b[0m\u001b[0mDense\u001b[0m\u001b[0;34m(\u001b[0m\u001b[0;36m1\u001b[0m\u001b[0;34m)\u001b[0m\u001b[0;34m)\u001b[0m\u001b[0;34m\u001b[0m\u001b[0m\n",
      "\u001b[0;31mAttributeError\u001b[0m: module 'keras.backend' has no attribute 'clear_session'"
     ]
    }
   ],
   "source": [
    "#K.clear_session()\n",
    "\n",
    "model = Sequential()\n",
    "model.add(Dense(12, input_dim=1, activation='relu'))\n",
    "model.add(Dense(1))\n",
    "model.compile(loss='mean_squared_error', optimizer='adam')\n",
    "early_stop = EarlyStopping(monitor='loss', patience=2, verbose=1)\n",
    "history = model.fit(X_train, y_train, epochs=200, batch_size=1, verbose=1, callbacks=[early_stop], shuffle=False)"
   ]
  },
  {
   "cell_type": "code",
   "execution_count": 12,
   "metadata": {},
   "outputs": [
    {
     "name": "stdout",
     "output_type": "stream",
     "text": [
      "The R2 score on the Train set is:\t0.901\n",
      "The Adjusted R2 score on the Train set is:\t0.901\n",
      "\n",
      "The R2 score on the Test set is:\t0.852\n",
      "The Adjusted R2 score on the Test set is:\t0.852\n"
     ]
    }
   ],
   "source": [
    "y_pred_test_ann = model.predict(X_test)\n",
    "y_train_pred_ann = model.predict(X_train)\n",
    "print(\"The R2 score on the Train set is:\\t{:0.3f}\".format(r2_score(y_train, y_train_pred_ann)))\n",
    "r2_train = r2_score(y_train, y_train_pred_ann)\n",
    "print(\"The Adjusted R2 score on the Train set is:\\t{:0.3f}\\n\".format(adj_r2_score(r2_train, X_train.shape[0], X_train.shape[1])))\n",
    "print(\"The R2 score on the Test set is:\\t{:0.3f}\".format(r2_score(y_test, y_pred_test_ann)))\n",
    "r2_test = r2_score(y_test, y_pred_test_ann)\n",
    "print(\"The Adjusted R2 score on the Test set is:\\t{:0.3f}\".format(adj_r2_score(r2_test, X_test.shape[0], X_test.shape[1])))"
   ]
  },
  {
   "cell_type": "code",
   "execution_count": 13,
   "metadata": {},
   "outputs": [],
   "source": [
    "model.save('ANN_NonShift.h5')"
   ]
  },
  {
   "cell_type": "markdown",
   "metadata": {},
   "source": [
    "### Process the data for LSTM"
   ]
  },
  {
   "cell_type": "code",
   "execution_count": 14,
   "metadata": {},
   "outputs": [],
   "source": [
    "X_tr_t = X_train.reshape(X_train.shape[0], 1, X_train.shape[1])\n",
    "X_tst_t = X_test.reshape(X_test.shape[0], 1, X_test.shape[1])"
   ]
  },
  {
   "cell_type": "markdown",
   "metadata": {},
   "source": [
    "## LSTM"
   ]
  },
  {
   "cell_type": "code",
   "execution_count": 24,
   "metadata": {},
   "outputs": [
    {
     "name": "stdout",
     "output_type": "stream",
     "text": [
      "Epoch 1/200\n",
      "1510/1510 [==============================] - 1s 890us/step - loss: 0.0014\n",
      "Epoch 2/200\n",
      "1510/1510 [==============================] - 1s 890us/step - loss: 0.0010\n",
      "Epoch 3/200\n",
      "1510/1510 [==============================] - 1s 914us/step - loss: 9.7905e-04\n",
      "Epoch 4/200\n",
      "1510/1510 [==============================] - 1s 895us/step - loss: 9.5269e-04\n",
      "Epoch 5/200\n",
      "1510/1510 [==============================] - 1s 901us/step - loss: 9.3304e-04\n",
      "Epoch 6/200\n",
      "1510/1510 [==============================] - 1s 874us/step - loss: 9.1718e-04\n",
      "Epoch 7/200\n",
      "1510/1510 [==============================] - 1s 880us/step - loss: 9.0239e-04\n",
      "Epoch 8/200\n",
      "1510/1510 [==============================] - 1s 882us/step - loss: 8.8947e-04\n",
      "Epoch 9/200\n",
      "1510/1510 [==============================] - 1s 879us/step - loss: 8.7551e-04\n",
      "Epoch 10/200\n",
      "1510/1510 [==============================] - 1s 894us/step - loss: 8.6056e-04\n",
      "Epoch 11/200\n",
      "1510/1510 [==============================] - 1s 903us/step - loss: 8.4627e-04\n",
      "Epoch 12/200\n",
      "1510/1510 [==============================] - 1s 873us/step - loss: 8.3496e-04\n",
      "Epoch 13/200\n",
      "1510/1510 [==============================] - 1s 893us/step - loss: 8.2401e-04\n",
      "Epoch 14/200\n",
      "1510/1510 [==============================] - 1s 908us/step - loss: 8.1395e-04\n",
      "Epoch 15/200\n",
      "1510/1510 [==============================] - 1s 894us/step - loss: 8.0285e-04\n",
      "Epoch 16/200\n",
      "1510/1510 [==============================] - 1s 880us/step - loss: 7.9501e-04\n",
      "Epoch 17/200\n",
      "1510/1510 [==============================] - 1s 852us/step - loss: 7.8780e-04\n",
      "Epoch 18/200\n",
      "1510/1510 [==============================] - 1s 884us/step - loss: 7.8139e-04\n",
      "Epoch 19/200\n",
      "1510/1510 [==============================] - 1s 883us/step - loss: 7.7555e-04\n",
      "Epoch 20/200\n",
      "1510/1510 [==============================] - 1s 873us/step - loss: 7.6941e-04\n",
      "Epoch 21/200\n",
      "1510/1510 [==============================] - 1s 893us/step - loss: 7.6704e-04\n",
      "Epoch 22/200\n",
      "1510/1510 [==============================] - 1s 884us/step - loss: 7.6346e-04\n",
      "Epoch 23/200\n",
      "1510/1510 [==============================] - 1s 893us/step - loss: 7.5900e-04\n",
      "Epoch 24/200\n",
      "1510/1510 [==============================] - 1s 892us/step - loss: 7.5748e-04\n",
      "Epoch 25/200\n",
      "1510/1510 [==============================] - 1s 906us/step - loss: 7.5604e-04\n",
      "Epoch 26/200\n",
      "1510/1510 [==============================] - 1s 894us/step - loss: 7.5483e-04\n",
      "Epoch 27/200\n",
      "1510/1510 [==============================] - 1s 885us/step - loss: 7.5393e-04\n",
      "Epoch 28/200\n",
      "1510/1510 [==============================] - 1s 903us/step - loss: 7.5583e-04\n",
      "Epoch 29/200\n",
      "1510/1510 [==============================] - 1s 891us/step - loss: 7.5338e-04\n",
      "Epoch 30/200\n",
      "1510/1510 [==============================] - 1s 882us/step - loss: 7.5503e-04\n",
      "Epoch 31/200\n",
      "1510/1510 [==============================] - 1s 902us/step - loss: 7.5260e-04\n",
      "Epoch 32/200\n",
      "1510/1510 [==============================] - 1s 892us/step - loss: 7.5440e-04\n",
      "Epoch 33/200\n",
      "1510/1510 [==============================] - 1s 886us/step - loss: 7.5212e-04\n",
      "Epoch 34/200\n",
      "1510/1510 [==============================] - 1s 899us/step - loss: 7.5403e-04\n",
      "Epoch 35/200\n",
      "1510/1510 [==============================] - 1s 914us/step - loss: 7.5184e-04\n",
      "Epoch 36/200\n",
      "1510/1510 [==============================] - 1s 910us/step - loss: 7.5385e-04\n",
      "Epoch 37/200\n",
      "1510/1510 [==============================] - 1s 891us/step - loss: 7.5435e-04\n",
      "Epoch 38/200\n",
      "1510/1510 [==============================] - 1s 863us/step - loss: 7.5161e-04\n",
      "Epoch 39/200\n",
      "1510/1510 [==============================] - 1s 867us/step - loss: 7.5350e-04\n",
      "Epoch 40/200\n",
      "1510/1510 [==============================] - 1s 874us/step - loss: 7.5398e-04\n",
      "Epoch 41/200\n",
      "1510/1510 [==============================] - 1s 884us/step - loss: 7.5392e-04\n",
      "Epoch 42/200\n",
      "1510/1510 [==============================] - 1s 918us/step - loss: 7.5101e-04\n",
      "Epoch 43/200\n",
      "1510/1510 [==============================] - 1s 893us/step - loss: 7.5286e-04\n",
      "Epoch 44/200\n",
      "1510/1510 [==============================] - 1s 905us/step - loss: 7.5333e-04\n",
      "Epoch 45/200\n",
      "1510/1510 [==============================] - 1s 907us/step - loss: 7.5329e-04\n",
      "Epoch 46/200\n",
      "1510/1510 [==============================] - 1s 900us/step - loss: 7.5309e-04\n",
      "Epoch 47/200\n",
      "1510/1510 [==============================] - 1s 897us/step - loss: 7.5285e-04\n",
      "Epoch 00047: early stopping\n",
      "The R2 score on the Train set is:\t0.922\n",
      "The Adjusted R2 score on the Train set is:\t0.922\n",
      "\n",
      "The R2 score on the Test set is:\t0.851\n",
      "The Adjusted R2 score on the Test set is:\t0.851\n"
     ]
    }
   ],
   "source": [
    "from keras.layers import LSTM\n",
    "from keras import backend as K\n",
    "#K.clear_session\n",
    "model_lstm = Sequential()\n",
    "model_lstm.add(LSTM(4, input_shape=(1, X_train.shape[1]), activation='relu', kernel_initializer='lecun_uniform', return_sequences=False))\n",
    "model_lstm.add(Dense(1))\n",
    "model_lstm.compile(loss='mean_squared_error', optimizer='adam')\n",
    "early_stop = EarlyStopping(monitor='loss', patience=5, verbose=1)\n",
    "history_model_lstm = model_lstm.fit(X_tr_t, y_train, epochs=200, batch_size=1, verbose=1, shuffle=False, callbacks=[early_stop])\n",
    "\n",
    "y_pred_test_lstm = model_lstm.predict(X_tst_t)\n",
    "y_train_pred_lstm = model_lstm.predict(X_tr_t)\n",
    "print(\"The R2 score on the Train set is:\\t{:0.3f}\".format(r2_score(y_train, y_train_pred_lstm)))\n",
    "r2_train = r2_score(y_train, y_train_pred_lstm)\n",
    "print(\"The Adjusted R2 score on the Train set is:\\t{:0.3f}\\n\".format(adj_r2_score(r2_train, X_train.shape[0], X_train.shape[1])))\n",
    "print(\"The R2 score on the Test set is:\\t{:0.3f}\".format(r2_score(y_test, y_pred_test_lstm)))\n",
    "r2_test = r2_score(y_test, y_pred_test_lstm)\n",
    "print(\"The Adjusted R2 score on the Test set is:\\t{:0.3f}\".format(adj_r2_score(r2_test, X_test.shape[0], X_test.shape[1])))"
   ]
  },
  {
   "cell_type": "code",
   "execution_count": 25,
   "metadata": {},
   "outputs": [],
   "source": [
    "model_lstm.save('LSTM_NonShift.h5')"
   ]
  },
  {
   "cell_type": "markdown",
   "metadata": {},
   "source": [
    "## Predictions made by each Model"
   ]
  },
  {
   "cell_type": "code",
   "execution_count": 26,
   "metadata": {},
   "outputs": [],
   "source": [
    "model_ann = load_model('ANN_NonShift.h5')\n",
    "model_lstm = load_model('LSTM_NonShift.h5')"
   ]
  },
  {
   "cell_type": "code",
   "execution_count": 27,
   "metadata": {},
   "outputs": [
    {
     "name": "stdout",
     "output_type": "stream",
     "text": [
      "2172/2172 [==============================] - 0s 86us/step\n",
      "2172/2172 [==============================] - 0s 228us/step\n"
     ]
    }
   ],
   "source": [
    "score_ann= model_ann.evaluate(X_test, y_test, batch_size=1)\n",
    "score_lstm= model_lstm.evaluate(X_tst_t, y_test, batch_size=1)"
   ]
  },
  {
   "cell_type": "code",
   "execution_count": 28,
   "metadata": {},
   "outputs": [
    {
     "name": "stdout",
     "output_type": "stream",
     "text": [
      "ANN: 0.001007\n",
      "LSTM: 0.001016\n"
     ]
    }
   ],
   "source": [
    "print('ANN: %f'%score_ann)\n",
    "print('LSTM: %f'%score_lstm)"
   ]
  },
  {
   "cell_type": "code",
   "execution_count": 29,
   "metadata": {},
   "outputs": [],
   "source": [
    "y_pred_test_ANN = model_ann.predict(X_test)\n",
    "y_pred_test_LSTM = model_lstm.predict(X_tst_t)"
   ]
  },
  {
   "cell_type": "code",
   "execution_count": 30,
   "metadata": {},
   "outputs": [],
   "source": [
    "col1 = pd.DataFrame(y_test, columns=['True'])\n",
    "col2 = pd.DataFrame(y_pred_test_ANN, columns=['ANN_prediction'])\n",
    "col3 = pd.DataFrame(y_pred_test_LSTM, columns=['LSTM_prediction'])\n",
    "col4 = pd.DataFrame(history.history['loss'], columns=['Loss_ANN'])\n",
    "col5 = pd.DataFrame(history_model_lstm.history['loss'], columns=['Loss_LSTM'])\n",
    "results = pd.concat([col1, col2, col3, col4, col5], axis=1)\n",
    "results.to_csv('PredictionResults_ANN-LSTM_NonShift.csv')"
   ]
  },
  {
   "cell_type": "markdown",
   "metadata": {
    "collapsed": true
   },
   "source": [
    "### ANN's Prediction Visual"
   ]
  },
  {
   "cell_type": "code",
   "execution_count": 31,
   "metadata": {},
   "outputs": [
    {
     "data": {
      "image/png": "[encoded data removed]",
      "text/plain": [
       "<Figure size 432x288 with 1 Axes>"
      ]
     },
     "metadata": {
      "needs_background": "light"
     },
     "output_type": "display_data"
    }
   ],
   "source": [
    "plt.plot(y_test, label='True')\n",
    "plt.plot(y_pred_test_ANN, label='ANN')\n",
    "plt.title(\"ANN's_Prediction\")\n",
    "plt.xlabel('Observation')\n",
    "plt.ylabel('INR_Scaled')\n",
    "plt.legend()\n",
    "plt.show()"
   ]
  },
  {
   "cell_type": "markdown",
   "metadata": {
    "collapsed": true
   },
   "source": [
    "### LSTM's Prediction Visual"
   ]
  },
  {
   "cell_type": "code",
   "execution_count": 23,
   "metadata": {},
   "outputs": [
    {
     "data": {
      "image/png": "[encoded data removed]",
      "text/plain": [
       "<Figure size 432x288 with 1 Axes>"
      ]
     },
     "metadata": {
      "needs_background": "light"
     },
     "output_type": "display_data"
    }
   ],
   "source": [
    "plt.plot(y_test, label='True')\n",
    "plt.plot(y_pred_test_LSTM, label='LSTM')\n",
    "plt.title(\"LSTM's_Prediction\")\n",
    "plt.xlabel('Observation')\n",
    "plt.ylabel('INR_Scaled')\n",
    "plt.legend()\n",
    "plt.show()"
   ]
  },
  {
   "cell_type": "code",
   "execution_count": null,
   "metadata": {},
   "outputs": [],
   "source": []
  }
 ],
 "metadata": {
  "kernelspec": {
   "display_name": "Python 2",
   "language": "python",
   "name": "python2"
  },
  "language_info": {
   "codemirror_mode": {
    "name": "ipython",
    "version": 3
   },
   "file_extension": ".py",
   "mimetype": "text/x-python",
   "name": "python",
   "nbconvert_exporter": "python",
   "pygments_lexer": "ipython3",
   "version": "3.6.6"
  }
 },
 "nbformat": 4,
 "nbformat_minor": 2
}
